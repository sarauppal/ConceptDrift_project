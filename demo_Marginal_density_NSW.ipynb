{
 "cells": [
  {
   "cell_type": "code",
   "execution_count": 1,
   "metadata": {},
   "outputs": [],
   "source": [
    "import pandas as pd\n",
    "import numpy as np\n",
    "from sklearn.linear_model import LogisticRegression\n",
    "from sklearn import preprocessing\n",
    "from sklearn.naive_bayes import GaussianNB\n",
    "from sklearn.model_selection import train_test_split\n",
    "from sklearn.metrics import accuracy_score\n",
    "from sklearn import model_selection\n",
    "from sklearn.svm import SVC\n",
    "import pylab\n",
    "import time\n",
    "import random\n",
    "import matplotlib.pyplot as plt\n"
   ]
  },
  {
   "cell_type": "markdown",
   "metadata": {},
   "source": [
    "# Monitor marginal density vs accuracy for support vector classifier"
   ]
  },
  {
   "cell_type": "code",
   "execution_count": 2,
   "metadata": {},
   "outputs": [],
   "source": [
    "df = pd.read_csv('data/elecNormNew.csv', names = ['feature1','feature2','feature3',\n",
    "                                                  'feature4','feature5','feature6',\n",
    "                                                  'feature7','feature8','label'])"
   ]
  },
  {
   "cell_type": "code",
   "execution_count": 3,
   "metadata": {},
   "outputs": [],
   "source": [
    "def calc_marginal_density(model,X,y):\n",
    "    w = model.coef_\n",
    "    w = w.reshape(X.shape[1],)\n",
    "    b = model.intercept_\n",
    "    dp = abs(np.dot(X,w)+b)\n",
    "    rho  = np.round(np.array(dp<1).sum() / X.shape[0],7)\n",
    "    return rho"
   ]
  },
  {
   "cell_type": "code",
   "execution_count": 4,
   "metadata": {},
   "outputs": [],
   "source": [
    "def train_model(X,y):\n",
    "    seed = 369\n",
    "    test_size = 0.33\n",
    "    X_train, X_test, y_train, y_test = train_test_split(X, y, test_size=test_size, random_state=seed)\n",
    "    model_new = SVC(kernel = 'linear')\n",
    "    model_new.fit(X_train, y_train)\n",
    "    y_pred = model_new.predict(X_test)\n",
    "    accuracy = accuracy_score(y_test, y_pred)\n",
    "    print(\"Accuracy after retraining: %.2f%%\" % (accuracy * 100.0))\n",
    "    return model_new,X_test"
   ]
  },
  {
   "cell_type": "code",
   "execution_count": 5,
   "metadata": {},
   "outputs": [
    {
     "name": "stdout",
     "output_type": "stream",
     "text": [
      "SVC(C=1.0, break_ties=False, cache_size=200, class_weight=None, coef0=0.0,\n",
      "    decision_function_shape='ovr', degree=3, gamma='scale', kernel='linear',\n",
      "    max_iter=-1, probability=False, random_state=None, shrinking=True,\n",
      "    tol=0.001, verbose=False)\n"
     ]
    }
   ],
   "source": [
    "df1 = df[0:15000]\n",
    "X1 = df1[['feature1','feature2','feature3','feature4','feature5','feature6','feature7','feature8']].values\n",
    "y1 = df1['label'].values\n",
    "label = [\"UP\", \"DOWN\"]\n",
    "le = preprocessing.LabelEncoder()\n",
    "le.fit(label)\n",
    "y1 = le.transform(y1)\n",
    "# split data into train and test sets\n",
    "seed = 9\n",
    "test_size = 0.33\n",
    "X1_train, X1_test, y1_train, y1_test = train_test_split(X1, y1, test_size=test_size, random_state=seed)\n",
    "scoring = ['accuracy', 'precision_weighted', 'recall_weighted', 'f1_weighted', 'roc_auc']\n",
    "# fit model no training data\n",
    "model = SVC(kernel = 'linear')\n",
    "model.fit(X1_train, y1_train)\n",
    "print(model)"
   ]
  },
  {
   "cell_type": "code",
   "execution_count": 6,
   "metadata": {},
   "outputs": [
    {
     "data": {
      "text/plain": [
       "{'fit_time': array([1.5820539 , 1.56004763, 1.51200962, 1.67711997, 1.81401396]),\n",
       " 'score_time': array([0.1390059 , 0.13611388, 0.1430068 , 0.14704919, 0.17306256]),\n",
       " 'test_accuracy': array([0.81044776, 0.8159204 , 0.80746269, 0.80696517, 0.80597015]),\n",
       " 'test_precision_weighted': array([0.81291083, 0.81833889, 0.80944653, 0.80855509, 0.8103257 ]),\n",
       " 'test_recall_weighted': array([0.81044776, 0.8159204 , 0.80746269, 0.80696517, 0.80597015]),\n",
       " 'test_f1_weighted': array([0.80853436, 0.81342901, 0.8055209 , 0.80507055, 0.80372846]),\n",
       " 'test_roc_auc': array([0.89668858, 0.90308424, 0.89106187, 0.88532714, 0.8874041 ])}"
      ]
     },
     "execution_count": 6,
     "metadata": {},
     "output_type": "execute_result"
    }
   ],
   "source": [
    "kfold = model_selection.KFold(n_splits=5, shuffle=True, random_state=4369)\n",
    "cv_results = model_selection.cross_validate(model, X1_train, y1_train, cv=kfold, scoring=scoring)\n",
    "clf = model.fit(X1_train, y1_train)\n",
    "cv_results"
   ]
  },
  {
   "cell_type": "code",
   "execution_count": 7,
   "metadata": {},
   "outputs": [
    {
     "data": {
      "text/plain": [
       "{'fit_time': array([1.70208955, 1.67505383, 1.6410563 , 2.14207458, 2.56360435]),\n",
       " 'score_time': array([0.00303316, 0.        , 0.        , 0.        , 0.        ]),\n",
       " 'test_score': array([0.639801 , 0.6288557, 0.6283582, 0.6492537, 0.6338308])}"
      ]
     },
     "execution_count": 7,
     "metadata": {},
     "output_type": "execute_result"
    }
   ],
   "source": [
    "kfold = model_selection.KFold(n_splits=5, shuffle=True, random_state=4369)\n",
    "cv_results = model_selection.cross_validate(model, X1_train, y1_train, cv=kfold, scoring=calc_marginal_density)\n",
    "clf = model.fit(X1_train, y1_train)\n",
    "cv_results"
   ]
  },
  {
   "cell_type": "code",
   "execution_count": 8,
   "metadata": {},
   "outputs": [],
   "source": [
    "sigma_ref = cv_results['test_score'].std()"
   ]
  },
  {
   "cell_type": "code",
   "execution_count": 9,
   "metadata": {},
   "outputs": [
    {
     "data": {
      "text/plain": [
       "0.00780063775582485"
      ]
     },
     "execution_count": 9,
     "metadata": {},
     "output_type": "execute_result"
    }
   ],
   "source": [
    "sigma_ref"
   ]
  },
  {
   "cell_type": "markdown",
   "metadata": {},
   "source": [
    "## Monitor marginal density with changing data set"
   ]
  },
  {
   "cell_type": "code",
   "execution_count": 10,
   "metadata": {},
   "outputs": [],
   "source": [
    "\n",
    "# %matplotlib notebook\n",
    "# import numpy as np\n",
    "# import matplotlib.pyplot as plt"
   ]
  },
  {
   "cell_type": "code",
   "execution_count": 11,
   "metadata": {},
   "outputs": [
    {
     "name": "stdout",
     "output_type": "stream",
     "text": [
      "Initial model accuracy: 80.06%\n"
     ]
    }
   ],
   "source": [
    "## Initiate model\n",
    "df1 = df[0:5000]\n",
    "X1 = df1[['feature1','feature2','feature3','feature4','feature5','feature6','feature7','feature8']].values\n",
    "y1 = df1['label'].values\n",
    "label = [\"UP\", \"DOWN\"]\n",
    "le = preprocessing.LabelEncoder()\n",
    "le.fit(label)\n",
    "y1 = le.transform(y1)\n",
    "# split data into train and test sets\n",
    "seed = 9\n",
    "test_size = 0.33\n",
    "X1_train, X1_test, y1_train, y1_test = train_test_split(X1, y1, test_size=test_size, random_state=seed)\n",
    "# fit model no training data\n",
    "# model = SVC(kernel = 'linear' , C = 2, probability = True)\n",
    "model = SVC(kernel = 'linear')\n",
    "model.fit(X1_train, y1_train)\n",
    "y1_pred = model.predict(X1_test)\n",
    "accuracy = accuracy_score(y1_test, y1_pred)\n",
    "print(\"Initial model accuracy: %.2f%%\" % (accuracy * 100.0))"
   ]
  },
  {
   "cell_type": "code",
   "execution_count": 12,
   "metadata": {},
   "outputs": [
    {
     "name": "stdout",
     "output_type": "stream",
     "text": [
      "initial marginal density  0.6192\n"
     ]
    }
   ],
   "source": [
    "print('initial marginal density ' , calc_marginal_density(model,X1,y1))"
   ]
  },
  {
   "cell_type": "code",
   "execution_count": 13,
   "metadata": {
    "scrolled": false
   },
   "outputs": [
    {
     "name": "stderr",
     "output_type": "stream",
     "text": [
      "C:\\Users\\t910571\\Anaconda3\\lib\\site-packages\\ipykernel_launcher.py:9: UserWarning: Matplotlib is currently using module://ipykernel.pylab.backend_inline, which is a non-GUI backend, so cannot show the figure.\n",
      "  if __name__ == '__main__':\n"
     ]
    },
    {
     "data": {
      "image/png": "[encoded data removed]",
      "text/plain": [
       "<Figure size 432x288 with 2 Axes>"
      ]
     },
     "metadata": {
      "needs_background": "light"
     },
     "output_type": "display_data"
    }
   ],
   "source": [
    "batch_size = 1000\n",
    "window_size = 10000\n",
    "# fig = plt.figure(figsize=(10,20))\n",
    "fig = plt.figure()\n",
    "ax  = fig.add_subplot(111)\n",
    "ax2=ax.twinx()\n",
    "plt.ion()\n",
    "\n",
    "fig.show()\n",
    "fig.canvas.draw()\n",
    "\n",
    "densities = []\n",
    "acc = []\n",
    "# rho_max = rho_min\n",
    "for i in range(int((len(df)-1)/batch_size)+1):\n",
    "    df_temp = df[(i*batch_size):((i*batch_size)+window_size)]\n",
    "    X2 = df_temp[['feature1','feature2','feature3','feature4','feature5','feature6','feature7','feature8']].values\n",
    "    y2 = df_temp['label'].values\n",
    "    label = [\"UP\", \"DOWN\"]\n",
    "    le = preprocessing.LabelEncoder()\n",
    "    le.fit(label)\n",
    "    y2 = le.transform(y2)\n",
    "    rho = calc_marginal_density(model,X2,y1)\n",
    "#     if  (rho > rho_max):\n",
    "#         rho_max = rho\n",
    "    \n",
    "#     densities.append(rho_max -rho_min)\n",
    "    densities.append(rho)\n",
    "    y2_pred = model.predict(X2)\n",
    "#     print(accuracy_score(y2, y2_pred))\n",
    "    acc.append((100*accuracy_score(y2, y2_pred)))\n",
    "    ax.clear()\n",
    "#     ax.set_xlim([0,int((len(df)-window_size)/batch_size)])\n",
    "    ax.set_xlim([0,int((len(df)-window_size)/batch_size)])\n",
    "    ax2.set_xlim([0,int((len(df)-window_size)/batch_size)])\n",
    "    ax.set_ylim([0.35,0.4])\n",
    "    ax2.set_ylim([50,100])\n",
    "    ax.plot(range(len(densities)),densities, color = 'red')\n",
    "    ax.set_ylabel(\"Marginal Density\",color=\"red\",fontsize=14)\n",
    "    ax2.plot(range(len(acc)),acc, color = 'blue')\n",
    "    ax2.set_ylabel(\"Accuracy (%)\",color=\"blue\",fontsize=14)\n",
    "\n",
    "    fig.canvas.draw()\n",
    "    plt.pause(0.0000001)\n",
    "    "
   ]
  },
  {
   "cell_type": "code",
   "execution_count": 14,
   "metadata": {},
   "outputs": [
    {
     "data": {
      "image/png": "[encoded data removed]",
      "text/plain": [
       "<Figure size 432x288 with 2 Axes>"
      ]
     },
     "metadata": {
      "needs_background": "light"
     },
     "output_type": "display_data"
    }
   ],
   "source": [
    "fig = plt.figure()\n",
    "ax  = fig.add_subplot(111)\n",
    "ax2=ax.twinx()\n",
    "ax.set_xlim([0,int((len(df)-window_size)/batch_size)])\n",
    "ax2.set_xlim([0,int((len(df)-window_size)/batch_size)])\n",
    "ax.set_ylim([0,1])\n",
    "ax2.set_ylim([50,100])\n",
    "ax.plot(range(len(densities)),densities, color = 'red')\n",
    "ax.set_ylabel(\"Marginal Desity\",color=\"red\",fontsize=14)\n",
    "ax2.plot(range(len(acc)),acc, color = 'blue')\n",
    "ax2.set_ylabel(\"Accuracy (%)\",color=\"blue\",fontsize=14)\n",
    "plt.savefig('figs/MD3_wo_intervention_NSW.png')"
   ]
  },
  {
   "cell_type": "code",
   "execution_count": 15,
   "metadata": {},
   "outputs": [
    {
     "data": {
      "text/plain": [
       "70.51485777362953"
      ]
     },
     "execution_count": 15,
     "metadata": {},
     "output_type": "execute_result"
    }
   ],
   "source": [
    "np.mean(acc)"
   ]
  },
  {
   "cell_type": "markdown",
   "metadata": {},
   "source": [
    "## Monitor accuracy with intervention at $| \\rho_{train} - \\rho_{score} | > 0.25 * \\sigma_{ref}$ "
   ]
  },
  {
   "cell_type": "code",
   "execution_count": 16,
   "metadata": {
    "scrolled": false
   },
   "outputs": [
    {
     "name": "stdout",
     "output_type": "stream",
     "text": [
      "Initial model accuracy: 81.39%\n"
     ]
    },
    {
     "name": "stderr",
     "output_type": "stream",
     "text": [
      "C:\\Users\\t910571\\Anaconda3\\lib\\site-packages\\ipykernel_launcher.py:31: UserWarning: Matplotlib is currently using module://ipykernel.pylab.backend_inline, which is a non-GUI backend, so cannot show the figure.\n"
     ]
    },
    {
     "data": {
      "image/png": "[encoded data removed]",
      "text/plain": [
       "<Figure size 432x288 with 2 Axes>"
      ]
     },
     "metadata": {
      "needs_background": "light"
     },
     "output_type": "display_data"
    },
    {
     "name": "stdout",
     "output_type": "stream",
     "text": [
      "Accuracy after retraining: 80.82%\n",
      "Accuracy after retraining: 82.61%\n",
      "Accuracy after retraining: 81.61%\n",
      "Accuracy after retraining: 82.39%\n",
      "Accuracy after retraining: 81.12%\n",
      "Accuracy after retraining: 80.58%\n",
      "Accuracy after retraining: 80.15%\n",
      "Accuracy after retraining: 78.79%\n",
      "Accuracy after retraining: 79.00%\n",
      "Accuracy after retraining: 77.45%\n",
      "Accuracy after retraining: 78.36%\n",
      "Accuracy after retraining: 74.94%\n",
      "Accuracy after retraining: 79.15%\n",
      "Accuracy after retraining: 77.48%\n",
      "Accuracy after retraining: 75.91%\n",
      "Accuracy after retraining: 75.21%\n",
      "Accuracy after retraining: 73.67%\n",
      "Accuracy after retraining: 73.67%\n",
      "Accuracy after retraining: 73.76%\n",
      "Accuracy after retraining: 72.24%\n",
      "Accuracy after retraining: 71.33%\n",
      "Accuracy after retraining: 72.52%\n",
      "Accuracy after retraining: 69.52%\n",
      "Accuracy after retraining: 69.97%\n",
      "Accuracy after retraining: 70.64%\n",
      "Accuracy after retraining: 68.70%\n",
      "Accuracy after retraining: 65.48%\n",
      "Accuracy after retraining: 64.94%\n",
      "Accuracy after retraining: 67.09%\n",
      "Accuracy after retraining: 68.42%\n",
      "Accuracy after retraining: 70.48%\n",
      "Accuracy after retraining: 71.30%\n",
      "Accuracy after retraining: 74.58%\n",
      "Accuracy after retraining: 77.82%\n",
      "Accuracy after retraining: 78.52%\n",
      "Accuracy after retraining: 82.79%\n"
     ]
    }
   ],
   "source": [
    "batch_size = 1000\n",
    "window_size = 10000\n",
    "## Initiate model\n",
    "df1 = df[0:15000]\n",
    "X1 = df1[['feature1','feature2','feature3','feature4','feature5','feature6','feature7','feature8']].values\n",
    "y1 = df1['label'].values\n",
    "label = [\"UP\", \"DOWN\"]\n",
    "le = preprocessing.LabelEncoder()\n",
    "le.fit(label)\n",
    "y1 = le.transform(y1)\n",
    "# split data into train and test sets\n",
    "seed = 9\n",
    "test_size = 0.33\n",
    "X1_train, X1_test, y1_train, y1_test = train_test_split(X1, y1, test_size=test_size, random_state=seed)\n",
    "# fit model no training data\n",
    "model = SVC(kernel = 'linear')\n",
    "model.fit(X1_train, y1_train)\n",
    "y1_pred = model.predict(X1_test)\n",
    "accuracy = accuracy_score(y1_test, y1_pred)\n",
    "print(\"Initial model accuracy: %.2f%%\" % (accuracy * 100.0))\n",
    "\n",
    "rho_min = calc_marginal_density(model,X1,y1)\n",
    "\n",
    "\n",
    "# fig = plt.figure(figsize=(10,20))\n",
    "fig = plt.figure()\n",
    "ax  = fig.add_subplot(111)\n",
    "ax2=ax.twinx()\n",
    "plt.ion()\n",
    "\n",
    "fig.show()\n",
    "fig.canvas.draw()\n",
    "\n",
    "densities = []\n",
    "acc = []\n",
    "for i in range(int((len(df)-window_size)/batch_size)+1):\n",
    "\n",
    "    df_temp = df[(i*batch_size):((i*batch_size)+window_size)]\n",
    "    X2 = df_temp[['feature1','feature2','feature3','feature4','feature5','feature6','feature7','feature8']].values\n",
    "    y2 = df_temp['label'].values\n",
    "    label = [\"UP\", \"DOWN\"]\n",
    "    le = preprocessing.LabelEncoder()\n",
    "    le.fit(label)\n",
    "    y2 = le.transform(y2)\n",
    "#     PSIs.append(calculate_PSI(X1_test,df[i*batch_size,(i*batch_size)+window_size],model))\n",
    "    rho = calc_marginal_density(model,X2,y1)\n",
    "    densities.append(rho)\n",
    "    y2_pred = model.predict(X2)\n",
    "#     print((100*accuracy_score(y2, y2_pred)))\n",
    "    acc.append((100*accuracy_score(y2, y2_pred)))\n",
    "    ax.clear()\n",
    "    ax.set_xlim([0,int((len(df)-window_size)/batch_size)])\n",
    "    ax2.set_xlim([0,int((len(df)-window_size)/batch_size)])\n",
    "    ax.set_ylim([0.30,0.45])\n",
    "    ax2.set_ylim([0.4,100])\n",
    "    ax.plot(range(len(densities)),densities, color = 'red')\n",
    "    ax.set_ylabel(\"Marginal Density\",color=\"red\",fontsize=14)\n",
    "    ax2.plot(range(len(acc)),acc, color = 'blue')\n",
    "    ax2.set_ylabel(\"Accuracy (%)\",color=\"blue\",fontsize=14)\n",
    "\n",
    "    fig.canvas.draw()\n",
    "    plt.pause(0.001)\n",
    "    \n",
    "    if abs(rho-rho_min) > (0.25*sigma_ref):\n",
    "#         print(\"Condition met, retraining model\")\n",
    "        model,new_ref_df = train_model(X2,y2)\n",
    "#         print(\"new PSI = \", calculate_PSI(X2,X2,model))\n",
    "        X1_test = X2\n",
    "#         rho_min = calc_marginal_density(model,X2,y)\n",
    "   \n",
    "        \n",
    "\n",
    "        "
   ]
  },
  {
   "cell_type": "code",
   "execution_count": 17,
   "metadata": {},
   "outputs": [
    {
     "data": {
      "image/png": "[encoded data removed]",
      "text/plain": [
       "<Figure size 432x288 with 2 Axes>"
      ]
     },
     "metadata": {
      "needs_background": "light"
     },
     "output_type": "display_data"
    }
   ],
   "source": [
    "fig = plt.figure()\n",
    "ax  = fig.add_subplot(111)\n",
    "ax2=ax.twinx()\n",
    "ax.set_xlim([0,int((len(df)-window_size)/batch_size)])\n",
    "ax2.set_xlim([0,int((len(df)-window_size)/batch_size)])\n",
    "ax.set_ylim([0,1])\n",
    "ax2.set_ylim([0.4,100])\n",
    "ax.plot(range(len(densities)),densities, color = 'red')\n",
    "ax.set_ylabel(\"Marginal Density\",color=\"red\",fontsize=14)\n",
    "ax2.plot(range(len(acc)),acc, color = 'blue')\n",
    "ax2.set_ylabel(\"Accuracy (%)\",color=\"blue\",fontsize=14)\n",
    "plt.savefig('figs/MD3_w_intervention_NSW.png')"
   ]
  },
  {
   "cell_type": "code",
   "execution_count": 18,
   "metadata": {},
   "outputs": [
    {
     "data": {
      "text/plain": [
       "75.06416666666667"
      ]
     },
     "execution_count": 18,
     "metadata": {},
     "output_type": "execute_result"
    }
   ],
   "source": [
    "np.mean(acc)"
   ]
  },
  {
   "cell_type": "code",
   "execution_count": 19,
   "metadata": {},
   "outputs": [
    {
     "data": {
      "text/plain": [
       "[81.5,\n",
       " 81.28,\n",
       " 80.57,\n",
       " 81.16,\n",
       " 81.83,\n",
       " 80.25999999999999,\n",
       " 79.72,\n",
       " 79.4,\n",
       " 79.0,\n",
       " 78.81,\n",
       " 76.57000000000001,\n",
       " 76.47,\n",
       " 76.83,\n",
       " 77.71000000000001,\n",
       " 75.99000000000001,\n",
       " 75.7,\n",
       " 75.46000000000001,\n",
       " 74.17,\n",
       " 73.13,\n",
       " 72.11999999999999,\n",
       " 71.81,\n",
       " 71.96000000000001,\n",
       " 71.25,\n",
       " 70.82000000000001,\n",
       " 70.12,\n",
       " 67.5,\n",
       " 66.07,\n",
       " 65.8,\n",
       " 66.3,\n",
       " 67.51,\n",
       " 70.87,\n",
       " 72.31,\n",
       " 74.97,\n",
       " 76.72,\n",
       " 79.53,\n",
       " 81.08999999999999]"
      ]
     },
     "execution_count": 19,
     "metadata": {},
     "output_type": "execute_result"
    }
   ],
   "source": [
    "acc"
   ]
  }
 ],
 "metadata": {
  "kernelspec": {
   "display_name": "Python 3",
   "language": "python",
   "name": "python3"
  },
  "language_info": {
   "codemirror_mode": {
    "name": "ipython",
    "version": 3
   },
   "file_extension": ".py",
   "mimetype": "text/x-python",
   "name": "python",
   "nbconvert_exporter": "python",
   "pygments_lexer": "ipython3",
   "version": "3.7.6"
  }
 },
 "nbformat": 4,
 "nbformat_minor": 4
}
